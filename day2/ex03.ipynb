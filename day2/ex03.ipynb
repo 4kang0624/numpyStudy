{
 "cells": [
  {
   "cell_type": "code",
   "execution_count": 1,
   "id": "ed3e78b1",
   "metadata": {},
   "outputs": [
    {
     "name": "stdout",
     "output_type": "stream",
     "text": [
      "Requirement already satisfied: pillow in c:\\anaconda3\\lib\\site-packages (8.4.0)\n"
     ]
    }
   ],
   "source": [
    "!pip install pillow"
   ]
  },
  {
   "cell_type": "code",
   "execution_count": 2,
   "id": "82dda80d",
   "metadata": {},
   "outputs": [
    {
     "name": "stdout",
     "output_type": "stream",
     "text": [
      "Requirement already satisfied: requests in c:\\anaconda3\\lib\\site-packages (2.26.0)\n",
      "Requirement already satisfied: charset-normalizer~=2.0.0 in c:\\anaconda3\\lib\\site-packages (from requests) (2.0.4)\n",
      "Requirement already satisfied: urllib3<1.27,>=1.21.1 in c:\\anaconda3\\lib\\site-packages (from requests) (1.26.7)\n",
      "Requirement already satisfied: certifi>=2017.4.17 in c:\\anaconda3\\lib\\site-packages (from requests) (2021.10.8)\n",
      "Requirement already satisfied: idna<4,>=2.5 in c:\\anaconda3\\lib\\site-packages (from requests) (3.2)\n"
     ]
    }
   ],
   "source": [
    "!pip install requests"
   ]
  },
  {
   "cell_type": "code",
   "execution_count": 3,
   "id": "0725e970",
   "metadata": {},
   "outputs": [],
   "source": [
    "import matplotlib.pyplot as plt\n",
    "import matplotlib.image as mpimg\n",
    "%matplotlib inline"
   ]
  },
  {
   "cell_type": "code",
   "execution_count": 4,
   "id": "72e76ae2",
   "metadata": {},
   "outputs": [
    {
     "ename": "FileNotFoundError",
     "evalue": "[Errno 2] No such file or directory: '02.jpg'",
     "output_type": "error",
     "traceback": [
      "\u001b[1;31m---------------------------------------------------------------------------\u001b[0m",
      "\u001b[1;31mFileNotFoundError\u001b[0m                         Traceback (most recent call last)",
      "\u001b[1;32m~\\AppData\\Local\\Temp/ipykernel_11860/2286156548.py\u001b[0m in \u001b[0;36m<module>\u001b[1;34m\u001b[0m\n\u001b[1;32m----> 1\u001b[1;33m \u001b[0mimg\u001b[0m \u001b[1;33m=\u001b[0m \u001b[0mmpimg\u001b[0m\u001b[1;33m.\u001b[0m\u001b[0mimread\u001b[0m\u001b[1;33m(\u001b[0m\u001b[1;34m'02.jpg'\u001b[0m\u001b[1;33m)\u001b[0m\u001b[1;33m\u001b[0m\u001b[1;33m\u001b[0m\u001b[0m\n\u001b[0m\u001b[0;32m      2\u001b[0m \u001b[1;33m\u001b[0m\u001b[0m\n\u001b[0;32m      3\u001b[0m \u001b[0mplt\u001b[0m\u001b[1;33m.\u001b[0m\u001b[0mfigure\u001b[0m\u001b[1;33m(\u001b[0m\u001b[0mfigsize\u001b[0m\u001b[1;33m=\u001b[0m\u001b[1;33m(\u001b[0m\u001b[1;36m10\u001b[0m\u001b[1;33m,\u001b[0m\u001b[1;36m8\u001b[0m\u001b[1;33m)\u001b[0m\u001b[1;33m)\u001b[0m\u001b[1;33m\u001b[0m\u001b[1;33m\u001b[0m\u001b[0m\n\u001b[0;32m      4\u001b[0m \u001b[0mplt\u001b[0m\u001b[1;33m.\u001b[0m\u001b[0mimshow\u001b[0m\u001b[1;33m(\u001b[0m\u001b[0mimg\u001b[0m\u001b[1;33m)\u001b[0m\u001b[1;33m\u001b[0m\u001b[1;33m\u001b[0m\u001b[0m\n\u001b[0;32m      5\u001b[0m \u001b[0mplt\u001b[0m\u001b[1;33m.\u001b[0m\u001b[0mshow\u001b[0m\u001b[1;33m(\u001b[0m\u001b[1;33m)\u001b[0m\u001b[1;33m\u001b[0m\u001b[1;33m\u001b[0m\u001b[0m\n",
      "\u001b[1;32mC:\\Anaconda3\\lib\\site-packages\\matplotlib\\image.py\u001b[0m in \u001b[0;36mimread\u001b[1;34m(fname, format)\u001b[0m\n\u001b[0;32m   1558\u001b[0m                     \u001b[0mresponse\u001b[0m \u001b[1;33m=\u001b[0m \u001b[0mio\u001b[0m\u001b[1;33m.\u001b[0m\u001b[0mBytesIO\u001b[0m\u001b[1;33m(\u001b[0m\u001b[0mresponse\u001b[0m\u001b[1;33m.\u001b[0m\u001b[0mread\u001b[0m\u001b[1;33m(\u001b[0m\u001b[1;33m)\u001b[0m\u001b[1;33m)\u001b[0m\u001b[1;33m\u001b[0m\u001b[1;33m\u001b[0m\u001b[0m\n\u001b[0;32m   1559\u001b[0m                 \u001b[1;32mreturn\u001b[0m \u001b[0mimread\u001b[0m\u001b[1;33m(\u001b[0m\u001b[0mresponse\u001b[0m\u001b[1;33m,\u001b[0m \u001b[0mformat\u001b[0m\u001b[1;33m=\u001b[0m\u001b[0mext\u001b[0m\u001b[1;33m)\u001b[0m\u001b[1;33m\u001b[0m\u001b[1;33m\u001b[0m\u001b[0m\n\u001b[1;32m-> 1560\u001b[1;33m     \u001b[1;32mwith\u001b[0m \u001b[0mimg_open\u001b[0m\u001b[1;33m(\u001b[0m\u001b[0mfname\u001b[0m\u001b[1;33m)\u001b[0m \u001b[1;32mas\u001b[0m \u001b[0mimage\u001b[0m\u001b[1;33m:\u001b[0m\u001b[1;33m\u001b[0m\u001b[1;33m\u001b[0m\u001b[0m\n\u001b[0m\u001b[0;32m   1561\u001b[0m         return (_pil_png_to_float_array(image)\n\u001b[0;32m   1562\u001b[0m                 \u001b[1;32mif\u001b[0m \u001b[0misinstance\u001b[0m\u001b[1;33m(\u001b[0m\u001b[0mimage\u001b[0m\u001b[1;33m,\u001b[0m \u001b[0mPIL\u001b[0m\u001b[1;33m.\u001b[0m\u001b[0mPngImagePlugin\u001b[0m\u001b[1;33m.\u001b[0m\u001b[0mPngImageFile\u001b[0m\u001b[1;33m)\u001b[0m \u001b[1;32melse\u001b[0m\u001b[1;33m\u001b[0m\u001b[1;33m\u001b[0m\u001b[0m\n",
      "\u001b[1;32mC:\\Anaconda3\\lib\\site-packages\\PIL\\Image.py\u001b[0m in \u001b[0;36mopen\u001b[1;34m(fp, mode, formats)\u001b[0m\n\u001b[0;32m   2973\u001b[0m \u001b[1;33m\u001b[0m\u001b[0m\n\u001b[0;32m   2974\u001b[0m     \u001b[1;32mif\u001b[0m \u001b[0mfilename\u001b[0m\u001b[1;33m:\u001b[0m\u001b[1;33m\u001b[0m\u001b[1;33m\u001b[0m\u001b[0m\n\u001b[1;32m-> 2975\u001b[1;33m         \u001b[0mfp\u001b[0m \u001b[1;33m=\u001b[0m \u001b[0mbuiltins\u001b[0m\u001b[1;33m.\u001b[0m\u001b[0mopen\u001b[0m\u001b[1;33m(\u001b[0m\u001b[0mfilename\u001b[0m\u001b[1;33m,\u001b[0m \u001b[1;34m\"rb\"\u001b[0m\u001b[1;33m)\u001b[0m\u001b[1;33m\u001b[0m\u001b[1;33m\u001b[0m\u001b[0m\n\u001b[0m\u001b[0;32m   2976\u001b[0m         \u001b[0mexclusive_fp\u001b[0m \u001b[1;33m=\u001b[0m \u001b[1;32mTrue\u001b[0m\u001b[1;33m\u001b[0m\u001b[1;33m\u001b[0m\u001b[0m\n\u001b[0;32m   2977\u001b[0m \u001b[1;33m\u001b[0m\u001b[0m\n",
      "\u001b[1;31mFileNotFoundError\u001b[0m: [Errno 2] No such file or directory: '02.jpg'"
     ]
    }
   ],
   "source": [
    "img = mpimg.imread('02.jpg')\n",
    "\n",
    "plt.figure(figsize=(10,8))\n",
    "plt.imshow(img)\n",
    "plt.show()"
   ]
  },
  {
   "cell_type": "code",
   "execution_count": null,
   "id": "677d2f1f",
   "metadata": {},
   "outputs": [],
   "source": [
    "import requests"
   ]
  },
  {
   "cell_type": "code",
   "execution_count": null,
   "id": "3ef2b844",
   "metadata": {},
   "outputs": [],
   "source": [
    "client_id = \"E2ftB3ArdEVN3z12fLlL\"\n",
    "client_secret = \"VI2aZ76ZUA\"\n",
    "\n",
    "url = \"https://openapi.naver.com/v1/vision/celebrity\"\n",
    "files = {'image':open('539.jpg','rb')}\n",
    "\n",
    "headers = {'X-Naver-Client-Id': client_id, 'X-Naver-Client-Secret':client_secret}\n",
    "\n",
    "response = requests.post(url, files=files, headers=headers)"
   ]
  },
  {
   "cell_type": "code",
   "execution_count": null,
   "id": "07af2067",
   "metadata": {},
   "outputs": [],
   "source": [
    "import json"
   ]
  },
  {
   "cell_type": "code",
   "execution_count": null,
   "id": "446af7f9",
   "metadata": {},
   "outputs": [],
   "source": [
    "parsed = json.loads(response.text)\n",
    "print(json.dumps(parsed, indent=4, sort_keys=False, ensure_ascii=False))"
   ]
  },
  {
   "cell_type": "code",
   "execution_count": null,
   "id": "23ce4bcf",
   "metadata": {},
   "outputs": [],
   "source": [
    "url = \"https://openapi.naver.com/v1/vision/face\"\n",
    "files = {'image':open('01.jpg','rb')}\n",
    "\n",
    "headers = {'X-Naver-Client-Id': client_id, 'X-Naver-Client-Secret':client_secret}\n",
    "\n",
    "response = requests.post(url, files=files, headers=headers)\n",
    "parsed = json.loads(response.text)\n",
    "print(json.dumps(parsed, indent=4, sort_keys=False, ensure_ascii=False))"
   ]
  },
  {
   "cell_type": "code",
   "execution_count": null,
   "id": "be060413",
   "metadata": {},
   "outputs": [],
   "source": [
    "detect_result = parsed"
   ]
  },
  {
   "cell_type": "code",
   "execution_count": null,
   "id": "c2597c3f",
   "metadata": {},
   "outputs": [],
   "source": [
    "detect_result.keys()"
   ]
  },
  {
   "cell_type": "code",
   "execution_count": null,
   "id": "030ddf8a",
   "metadata": {},
   "outputs": [],
   "source": [
    "detect_result['faces']"
   ]
  },
  {
   "cell_type": "code",
   "execution_count": null,
   "id": "199d91e4",
   "metadata": {},
   "outputs": [],
   "source": [
    "detect_result['faces'][0]"
   ]
  },
  {
   "cell_type": "code",
   "execution_count": null,
   "id": "91f6ec77",
   "metadata": {},
   "outputs": [],
   "source": [
    "detect_result['faces'][0]['roi']"
   ]
  },
  {
   "cell_type": "code",
   "execution_count": null,
   "id": "aeb9bb72",
   "metadata": {},
   "outputs": [],
   "source": [
    "detect_result['faces'][0]['gender']"
   ]
  },
  {
   "cell_type": "code",
   "execution_count": null,
   "id": "57b4ade8",
   "metadata": {},
   "outputs": [],
   "source": [
    "detect_result['faces'][0]['age']"
   ]
  },
  {
   "cell_type": "code",
   "execution_count": null,
   "id": "a7d15e60",
   "metadata": {},
   "outputs": [],
   "source": [
    "detect_result['faces'][0]['emotion']"
   ]
  },
  {
   "cell_type": "code",
   "execution_count": null,
   "id": "e5e5b2b5",
   "metadata": {},
   "outputs": [],
   "source": [
    "x, y, w, h = detect_result['faces'][0]['roi'].values()\n",
    "gender, confidence = detect_result['faces'][0]['gender'].values()\n",
    "emotion, emotion_confidence = detect_result['faces'][0]['emotion'].values()\n",
    "age, age_confidence = detect_result['faces'][0]['age'].values()"
   ]
  },
  {
   "cell_type": "code",
   "execution_count": null,
   "id": "59106de3",
   "metadata": {},
   "outputs": [],
   "source": [
    "annotation = gender + ':' + str(confidence) + '\\n' + emotion + ':' + str(emotion_confidence)"
   ]
  },
  {
   "cell_type": "code",
   "execution_count": null,
   "id": "de7e58f6",
   "metadata": {},
   "outputs": [],
   "source": [
    "import matplotlib.patches as patches"
   ]
  },
  {
   "cell_type": "code",
   "execution_count": null,
   "id": "1694f262",
   "metadata": {},
   "outputs": [],
   "source": [
    "img = mpimg.imread('01.jpg')\n",
    "\n",
    "fig, ax = plt.subplots(figsize=(10,10))\n",
    "ax.imshow(img)\n",
    "\n",
    "rect_face = patches.Rectangle((x,y),w,h, linewidth=5, edgecolor='r', facecolor='none')\n",
    "ax.add_patch(rect_face)\n",
    "\n",
    "plt.text(10, 400, annotation, wrap=True, fontsize=17, color='white')\n",
    "plt.show()"
   ]
  },
  {
   "cell_type": "code",
   "execution_count": null,
   "id": "bac20145",
   "metadata": {},
   "outputs": [],
   "source": [
    "img = mpimg.imread('01.jpg')\n",
    "\n",
    "fig, ax = plt.subplots(figsize=(14,10))\n",
    "ax.imshow(img)\n",
    "\n",
    "\n",
    "for each in detect_result['faces']:\n",
    "    \n",
    "    x, y, w, h = each['roi'].values()\n",
    "    gender, confidence = each['gender'].values()\n",
    "    emotion, emotion_confidence = each['emotion'].values()\n",
    "\n",
    "    rect_face = patches.Rectangle((x, y), w, h, linewidth=5, edgecolor='r', facecolor='none')\n",
    "    annotation = gender + ':' + str(confidence) + '\\n' + emotion + ':' + str(emotion_confidence)\n",
    "    plt.text(x, y + h + 40, annotation, wrap=True, fontsize=17, color='white')\n",
    "    ax.add_patch(rect_face)\n",
    "    \n",
    "plt.show()"
   ]
  },
  {
   "cell_type": "code",
   "execution_count": null,
   "id": "a14c5c40",
   "metadata": {},
   "outputs": [],
   "source": []
  },
  {
   "cell_type": "code",
   "execution_count": null,
   "id": "2bfddc3c",
   "metadata": {},
   "outputs": [],
   "source": []
  }
 ],
 "metadata": {
  "kernelspec": {
   "display_name": "Python 3 (ipykernel)",
   "language": "python",
   "name": "python3"
  },
  "language_info": {
   "codemirror_mode": {
    "name": "ipython",
    "version": 3
   },
   "file_extension": ".py",
   "mimetype": "text/x-python",
   "name": "python",
   "nbconvert_exporter": "python",
   "pygments_lexer": "ipython3",
   "version": "3.9.7"
  }
 },
 "nbformat": 4,
 "nbformat_minor": 5
}
