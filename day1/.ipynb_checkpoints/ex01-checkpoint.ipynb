{
 "cells": [
  {
   "cell_type": "markdown",
   "id": "e04de5c1",
   "metadata": {},
   "source": [
    "![01](01.png)"
   ]
  },
  {
   "cell_type": "markdown",
   "id": "4a30b441",
   "metadata": {},
   "source": [
    "http://data.seoul.go.kr 서울시 청소년 정신건강 통계"
   ]
  },
  {
   "cell_type": "code",
   "execution_count": 1,
   "id": "7e81c30b",
   "metadata": {},
   "outputs": [],
   "source": [
    "import pandas as pd"
   ]
  },
  {
   "cell_type": "code",
   "execution_count": 4,
   "id": "68c2b8d9",
   "metadata": {},
   "outputs": [],
   "source": [
    "dates = pd.date_range('20190301', periods=7)"
   ]
  },
  {
   "cell_type": "code",
   "execution_count": 5,
   "id": "18500982",
   "metadata": {},
   "outputs": [
    {
     "data": {
      "text/plain": [
       "DatetimeIndex(['2019-03-01', '2019-03-02', '2019-03-03', '2019-03-04',\n",
       "               '2019-03-05', '2019-03-06', '2019-03-07'],\n",
       "              dtype='datetime64[ns]', freq='D')"
      ]
     },
     "execution_count": 5,
     "metadata": {},
     "output_type": "execute_result"
    }
   ],
   "source": [
    "dates"
   ]
  },
  {
   "cell_type": "code",
   "execution_count": 6,
   "id": "dc6e24cb",
   "metadata": {},
   "outputs": [],
   "source": [
    "import numpy as np"
   ]
  },
  {
   "cell_type": "code",
   "execution_count": 8,
   "id": "903f1336",
   "metadata": {},
   "outputs": [],
   "source": [
    "df = pd.DataFrame(np.random.randn(7,4), index=dates, columns=['A', 'B', 'C', 'D'])"
   ]
  },
  {
   "cell_type": "code",
   "execution_count": 9,
   "id": "eedcc5e0",
   "metadata": {},
   "outputs": [
    {
     "data": {
      "text/html": [
       "<div>\n",
       "<style scoped>\n",
       "    .dataframe tbody tr th:only-of-type {\n",
       "        vertical-align: middle;\n",
       "    }\n",
       "\n",
       "    .dataframe tbody tr th {\n",
       "        vertical-align: top;\n",
       "    }\n",
       "\n",
       "    .dataframe thead th {\n",
       "        text-align: right;\n",
       "    }\n",
       "</style>\n",
       "<table border=\"1\" class=\"dataframe\">\n",
       "  <thead>\n",
       "    <tr style=\"text-align: right;\">\n",
       "      <th></th>\n",
       "      <th>A</th>\n",
       "      <th>B</th>\n",
       "      <th>C</th>\n",
       "      <th>D</th>\n",
       "    </tr>\n",
       "  </thead>\n",
       "  <tbody>\n",
       "    <tr>\n",
       "      <th>2019-03-01</th>\n",
       "      <td>1.616313</td>\n",
       "      <td>-0.656195</td>\n",
       "      <td>-0.567310</td>\n",
       "      <td>-0.355925</td>\n",
       "    </tr>\n",
       "    <tr>\n",
       "      <th>2019-03-02</th>\n",
       "      <td>0.763080</td>\n",
       "      <td>0.678132</td>\n",
       "      <td>-0.184800</td>\n",
       "      <td>-0.285620</td>\n",
       "    </tr>\n",
       "    <tr>\n",
       "      <th>2019-03-03</th>\n",
       "      <td>0.128151</td>\n",
       "      <td>-0.563499</td>\n",
       "      <td>0.972631</td>\n",
       "      <td>-1.628577</td>\n",
       "    </tr>\n",
       "    <tr>\n",
       "      <th>2019-03-04</th>\n",
       "      <td>-1.101764</td>\n",
       "      <td>-0.790643</td>\n",
       "      <td>-0.012208</td>\n",
       "      <td>-1.517012</td>\n",
       "    </tr>\n",
       "    <tr>\n",
       "      <th>2019-03-05</th>\n",
       "      <td>-0.070653</td>\n",
       "      <td>0.363253</td>\n",
       "      <td>1.634583</td>\n",
       "      <td>-2.900455</td>\n",
       "    </tr>\n",
       "    <tr>\n",
       "      <th>2019-03-06</th>\n",
       "      <td>-2.865717</td>\n",
       "      <td>-0.751398</td>\n",
       "      <td>-0.388198</td>\n",
       "      <td>0.239836</td>\n",
       "    </tr>\n",
       "    <tr>\n",
       "      <th>2019-03-07</th>\n",
       "      <td>-2.066418</td>\n",
       "      <td>1.042367</td>\n",
       "      <td>-0.461286</td>\n",
       "      <td>0.390121</td>\n",
       "    </tr>\n",
       "  </tbody>\n",
       "</table>\n",
       "</div>"
      ],
      "text/plain": [
       "                   A         B         C         D\n",
       "2019-03-01  1.616313 -0.656195 -0.567310 -0.355925\n",
       "2019-03-02  0.763080  0.678132 -0.184800 -0.285620\n",
       "2019-03-03  0.128151 -0.563499  0.972631 -1.628577\n",
       "2019-03-04 -1.101764 -0.790643 -0.012208 -1.517012\n",
       "2019-03-05 -0.070653  0.363253  1.634583 -2.900455\n",
       "2019-03-06 -2.865717 -0.751398 -0.388198  0.239836\n",
       "2019-03-07 -2.066418  1.042367 -0.461286  0.390121"
      ]
     },
     "execution_count": 9,
     "metadata": {},
     "output_type": "execute_result"
    }
   ],
   "source": [
    "df"
   ]
  },
  {
   "cell_type": "code",
   "execution_count": 10,
   "id": "84ba0aea",
   "metadata": {},
   "outputs": [
    {
     "data": {
      "text/plain": [
       "pandas.core.frame.DataFrame"
      ]
     },
     "execution_count": 10,
     "metadata": {},
     "output_type": "execute_result"
    }
   ],
   "source": [
    "type(df)"
   ]
  },
  {
   "cell_type": "code",
   "execution_count": 13,
   "id": "ab8fa2c3",
   "metadata": {},
   "outputs": [
    {
     "data": {
      "text/plain": [
       "DatetimeIndex(['2019-03-01', '2019-03-02', '2019-03-03', '2019-03-04',\n",
       "               '2019-03-05', '2019-03-06', '2019-03-07'],\n",
       "              dtype='datetime64[ns]', freq='D')"
      ]
     },
     "execution_count": 13,
     "metadata": {},
     "output_type": "execute_result"
    }
   ],
   "source": [
    "df.index"
   ]
  },
  {
   "cell_type": "code",
   "execution_count": 15,
   "id": "e3567c34",
   "metadata": {},
   "outputs": [
    {
     "data": {
      "text/plain": [
       "array([[ 1.61631313, -0.65619487, -0.56731049, -0.35592517],\n",
       "       [ 0.76308021,  0.67813208, -0.18480046, -0.28561973],\n",
       "       [ 0.12815088, -0.56349904,  0.97263121, -1.62857726],\n",
       "       [-1.1017635 , -0.79064298, -0.01220759, -1.5170121 ],\n",
       "       [-0.07065252,  0.36325302,  1.63458332, -2.90045458],\n",
       "       [-2.86571725, -0.75139847, -0.38819815,  0.23983608],\n",
       "       [-2.0664184 ,  1.0423674 , -0.46128571,  0.39012146]])"
      ]
     },
     "execution_count": 15,
     "metadata": {},
     "output_type": "execute_result"
    }
   ],
   "source": [
    "df.values"
   ]
  },
  {
   "cell_type": "code",
   "execution_count": 17,
   "id": "5e124dd5",
   "metadata": {},
   "outputs": [
    {
     "data": {
      "text/html": [
       "<div>\n",
       "<style scoped>\n",
       "    .dataframe tbody tr th:only-of-type {\n",
       "        vertical-align: middle;\n",
       "    }\n",
       "\n",
       "    .dataframe tbody tr th {\n",
       "        vertical-align: top;\n",
       "    }\n",
       "\n",
       "    .dataframe thead th {\n",
       "        text-align: right;\n",
       "    }\n",
       "</style>\n",
       "<table border=\"1\" class=\"dataframe\">\n",
       "  <thead>\n",
       "    <tr style=\"text-align: right;\">\n",
       "      <th></th>\n",
       "      <th>A</th>\n",
       "      <th>B</th>\n",
       "      <th>C</th>\n",
       "      <th>D</th>\n",
       "    </tr>\n",
       "  </thead>\n",
       "  <tbody>\n",
       "    <tr>\n",
       "      <th>count</th>\n",
       "      <td>7.000000</td>\n",
       "      <td>7.000000</td>\n",
       "      <td>7.000000</td>\n",
       "      <td>7.000000</td>\n",
       "    </tr>\n",
       "    <tr>\n",
       "      <th>mean</th>\n",
       "      <td>-0.513858</td>\n",
       "      <td>-0.096855</td>\n",
       "      <td>0.141916</td>\n",
       "      <td>-0.865376</td>\n",
       "    </tr>\n",
       "    <tr>\n",
       "      <th>std</th>\n",
       "      <td>1.584515</td>\n",
       "      <td>0.769255</td>\n",
       "      <td>0.836313</td>\n",
       "      <td>1.193180</td>\n",
       "    </tr>\n",
       "    <tr>\n",
       "      <th>min</th>\n",
       "      <td>-2.865717</td>\n",
       "      <td>-0.790643</td>\n",
       "      <td>-0.567310</td>\n",
       "      <td>-2.900455</td>\n",
       "    </tr>\n",
       "    <tr>\n",
       "      <th>25%</th>\n",
       "      <td>-1.584091</td>\n",
       "      <td>-0.703797</td>\n",
       "      <td>-0.424742</td>\n",
       "      <td>-1.572795</td>\n",
       "    </tr>\n",
       "    <tr>\n",
       "      <th>50%</th>\n",
       "      <td>-0.070653</td>\n",
       "      <td>-0.563499</td>\n",
       "      <td>-0.184800</td>\n",
       "      <td>-0.355925</td>\n",
       "    </tr>\n",
       "    <tr>\n",
       "      <th>75%</th>\n",
       "      <td>0.445616</td>\n",
       "      <td>0.520693</td>\n",
       "      <td>0.480212</td>\n",
       "      <td>-0.022892</td>\n",
       "    </tr>\n",
       "    <tr>\n",
       "      <th>max</th>\n",
       "      <td>1.616313</td>\n",
       "      <td>1.042367</td>\n",
       "      <td>1.634583</td>\n",
       "      <td>0.390121</td>\n",
       "    </tr>\n",
       "  </tbody>\n",
       "</table>\n",
       "</div>"
      ],
      "text/plain": [
       "              A         B         C         D\n",
       "count  7.000000  7.000000  7.000000  7.000000\n",
       "mean  -0.513858 -0.096855  0.141916 -0.865376\n",
       "std    1.584515  0.769255  0.836313  1.193180\n",
       "min   -2.865717 -0.790643 -0.567310 -2.900455\n",
       "25%   -1.584091 -0.703797 -0.424742 -1.572795\n",
       "50%   -0.070653 -0.563499 -0.184800 -0.355925\n",
       "75%    0.445616  0.520693  0.480212 -0.022892\n",
       "max    1.616313  1.042367  1.634583  0.390121"
      ]
     },
     "execution_count": 17,
     "metadata": {},
     "output_type": "execute_result"
    }
   ],
   "source": [
    "df.describe() #df의 통계 등"
   ]
  },
  {
   "cell_type": "code",
   "execution_count": 18,
   "id": "bd3ca632",
   "metadata": {},
   "outputs": [
    {
     "data": {
      "text/html": [
       "<div>\n",
       "<style scoped>\n",
       "    .dataframe tbody tr th:only-of-type {\n",
       "        vertical-align: middle;\n",
       "    }\n",
       "\n",
       "    .dataframe tbody tr th {\n",
       "        vertical-align: top;\n",
       "    }\n",
       "\n",
       "    .dataframe thead th {\n",
       "        text-align: right;\n",
       "    }\n",
       "</style>\n",
       "<table border=\"1\" class=\"dataframe\">\n",
       "  <thead>\n",
       "    <tr style=\"text-align: right;\">\n",
       "      <th></th>\n",
       "      <th>A</th>\n",
       "      <th>B</th>\n",
       "      <th>C</th>\n",
       "      <th>D</th>\n",
       "    </tr>\n",
       "  </thead>\n",
       "  <tbody>\n",
       "    <tr>\n",
       "      <th>2019-03-06</th>\n",
       "      <td>-2.865717</td>\n",
       "      <td>-0.751398</td>\n",
       "      <td>-0.388198</td>\n",
       "      <td>0.239836</td>\n",
       "    </tr>\n",
       "    <tr>\n",
       "      <th>2019-03-07</th>\n",
       "      <td>-2.066418</td>\n",
       "      <td>1.042367</td>\n",
       "      <td>-0.461286</td>\n",
       "      <td>0.390121</td>\n",
       "    </tr>\n",
       "    <tr>\n",
       "      <th>2019-03-04</th>\n",
       "      <td>-1.101764</td>\n",
       "      <td>-0.790643</td>\n",
       "      <td>-0.012208</td>\n",
       "      <td>-1.517012</td>\n",
       "    </tr>\n",
       "    <tr>\n",
       "      <th>2019-03-05</th>\n",
       "      <td>-0.070653</td>\n",
       "      <td>0.363253</td>\n",
       "      <td>1.634583</td>\n",
       "      <td>-2.900455</td>\n",
       "    </tr>\n",
       "    <tr>\n",
       "      <th>2019-03-03</th>\n",
       "      <td>0.128151</td>\n",
       "      <td>-0.563499</td>\n",
       "      <td>0.972631</td>\n",
       "      <td>-1.628577</td>\n",
       "    </tr>\n",
       "    <tr>\n",
       "      <th>2019-03-02</th>\n",
       "      <td>0.763080</td>\n",
       "      <td>0.678132</td>\n",
       "      <td>-0.184800</td>\n",
       "      <td>-0.285620</td>\n",
       "    </tr>\n",
       "    <tr>\n",
       "      <th>2019-03-01</th>\n",
       "      <td>1.616313</td>\n",
       "      <td>-0.656195</td>\n",
       "      <td>-0.567310</td>\n",
       "      <td>-0.355925</td>\n",
       "    </tr>\n",
       "  </tbody>\n",
       "</table>\n",
       "</div>"
      ],
      "text/plain": [
       "                   A         B         C         D\n",
       "2019-03-06 -2.865717 -0.751398 -0.388198  0.239836\n",
       "2019-03-07 -2.066418  1.042367 -0.461286  0.390121\n",
       "2019-03-04 -1.101764 -0.790643 -0.012208 -1.517012\n",
       "2019-03-05 -0.070653  0.363253  1.634583 -2.900455\n",
       "2019-03-03  0.128151 -0.563499  0.972631 -1.628577\n",
       "2019-03-02  0.763080  0.678132 -0.184800 -0.285620\n",
       "2019-03-01  1.616313 -0.656195 -0.567310 -0.355925"
      ]
     },
     "execution_count": 18,
     "metadata": {},
     "output_type": "execute_result"
    }
   ],
   "source": [
    "df.sort_values(by='A') # A값 기준 소트"
   ]
  },
  {
   "cell_type": "code",
   "execution_count": 22,
   "id": "ba86f318",
   "metadata": {},
   "outputs": [
    {
     "data": {
      "text/html": [
       "<div>\n",
       "<style scoped>\n",
       "    .dataframe tbody tr th:only-of-type {\n",
       "        vertical-align: middle;\n",
       "    }\n",
       "\n",
       "    .dataframe tbody tr th {\n",
       "        vertical-align: top;\n",
       "    }\n",
       "\n",
       "    .dataframe thead th {\n",
       "        text-align: right;\n",
       "    }\n",
       "</style>\n",
       "<table border=\"1\" class=\"dataframe\">\n",
       "  <thead>\n",
       "    <tr style=\"text-align: right;\">\n",
       "      <th></th>\n",
       "      <th>A</th>\n",
       "      <th>B</th>\n",
       "      <th>C</th>\n",
       "      <th>D</th>\n",
       "    </tr>\n",
       "  </thead>\n",
       "  <tbody>\n",
       "    <tr>\n",
       "      <th>2019-03-01</th>\n",
       "      <td>1.616313</td>\n",
       "      <td>-0.656195</td>\n",
       "      <td>-0.567310</td>\n",
       "      <td>-0.355925</td>\n",
       "    </tr>\n",
       "    <tr>\n",
       "      <th>2019-03-02</th>\n",
       "      <td>0.763080</td>\n",
       "      <td>0.678132</td>\n",
       "      <td>-0.184800</td>\n",
       "      <td>-0.285620</td>\n",
       "    </tr>\n",
       "    <tr>\n",
       "      <th>2019-03-03</th>\n",
       "      <td>0.128151</td>\n",
       "      <td>-0.563499</td>\n",
       "      <td>0.972631</td>\n",
       "      <td>-1.628577</td>\n",
       "    </tr>\n",
       "    <tr>\n",
       "      <th>2019-03-05</th>\n",
       "      <td>-0.070653</td>\n",
       "      <td>0.363253</td>\n",
       "      <td>1.634583</td>\n",
       "      <td>-2.900455</td>\n",
       "    </tr>\n",
       "    <tr>\n",
       "      <th>2019-03-04</th>\n",
       "      <td>-1.101764</td>\n",
       "      <td>-0.790643</td>\n",
       "      <td>-0.012208</td>\n",
       "      <td>-1.517012</td>\n",
       "    </tr>\n",
       "    <tr>\n",
       "      <th>2019-03-07</th>\n",
       "      <td>-2.066418</td>\n",
       "      <td>1.042367</td>\n",
       "      <td>-0.461286</td>\n",
       "      <td>0.390121</td>\n",
       "    </tr>\n",
       "    <tr>\n",
       "      <th>2019-03-06</th>\n",
       "      <td>-2.865717</td>\n",
       "      <td>-0.751398</td>\n",
       "      <td>-0.388198</td>\n",
       "      <td>0.239836</td>\n",
       "    </tr>\n",
       "  </tbody>\n",
       "</table>\n",
       "</div>"
      ],
      "text/plain": [
       "                   A         B         C         D\n",
       "2019-03-01  1.616313 -0.656195 -0.567310 -0.355925\n",
       "2019-03-02  0.763080  0.678132 -0.184800 -0.285620\n",
       "2019-03-03  0.128151 -0.563499  0.972631 -1.628577\n",
       "2019-03-05 -0.070653  0.363253  1.634583 -2.900455\n",
       "2019-03-04 -1.101764 -0.790643 -0.012208 -1.517012\n",
       "2019-03-07 -2.066418  1.042367 -0.461286  0.390121\n",
       "2019-03-06 -2.865717 -0.751398 -0.388198  0.239836"
      ]
     },
     "execution_count": 22,
     "metadata": {},
     "output_type": "execute_result"
    }
   ],
   "source": [
    "df.sort_values(by='A', ascending=False) # A값 기준 소트(내림차순)"
   ]
  },
  {
   "cell_type": "code",
   "execution_count": 23,
   "id": "308127de",
   "metadata": {},
   "outputs": [
    {
     "data": {
      "text/plain": [
       "2019-03-01    1.616313\n",
       "2019-03-02    0.763080\n",
       "2019-03-03    0.128151\n",
       "2019-03-04   -1.101764\n",
       "2019-03-05   -0.070653\n",
       "2019-03-06   -2.865717\n",
       "2019-03-07   -2.066418\n",
       "Freq: D, Name: A, dtype: float64"
      ]
     },
     "execution_count": 23,
     "metadata": {},
     "output_type": "execute_result"
    }
   ],
   "source": [
    "df['A']"
   ]
  },
  {
   "cell_type": "code",
   "execution_count": 24,
   "id": "814e7505",
   "metadata": {},
   "outputs": [
    {
     "data": {
      "text/html": [
       "<div>\n",
       "<style scoped>\n",
       "    .dataframe tbody tr th:only-of-type {\n",
       "        vertical-align: middle;\n",
       "    }\n",
       "\n",
       "    .dataframe tbody tr th {\n",
       "        vertical-align: top;\n",
       "    }\n",
       "\n",
       "    .dataframe thead th {\n",
       "        text-align: right;\n",
       "    }\n",
       "</style>\n",
       "<table border=\"1\" class=\"dataframe\">\n",
       "  <thead>\n",
       "    <tr style=\"text-align: right;\">\n",
       "      <th></th>\n",
       "      <th>A</th>\n",
       "      <th>B</th>\n",
       "      <th>C</th>\n",
       "      <th>D</th>\n",
       "    </tr>\n",
       "  </thead>\n",
       "  <tbody>\n",
       "    <tr>\n",
       "      <th>2019-03-01</th>\n",
       "      <td>1.616313</td>\n",
       "      <td>-0.656195</td>\n",
       "      <td>-0.567310</td>\n",
       "      <td>-0.355925</td>\n",
       "    </tr>\n",
       "    <tr>\n",
       "      <th>2019-03-02</th>\n",
       "      <td>0.763080</td>\n",
       "      <td>0.678132</td>\n",
       "      <td>-0.184800</td>\n",
       "      <td>-0.285620</td>\n",
       "    </tr>\n",
       "    <tr>\n",
       "      <th>2019-03-03</th>\n",
       "      <td>0.128151</td>\n",
       "      <td>-0.563499</td>\n",
       "      <td>0.972631</td>\n",
       "      <td>-1.628577</td>\n",
       "    </tr>\n",
       "  </tbody>\n",
       "</table>\n",
       "</div>"
      ],
      "text/plain": [
       "                   A         B         C         D\n",
       "2019-03-01  1.616313 -0.656195 -0.567310 -0.355925\n",
       "2019-03-02  0.763080  0.678132 -0.184800 -0.285620\n",
       "2019-03-03  0.128151 -0.563499  0.972631 -1.628577"
      ]
     },
     "execution_count": 24,
     "metadata": {},
     "output_type": "execute_result"
    }
   ],
   "source": [
    "df[0:3]"
   ]
  },
  {
   "cell_type": "code",
   "execution_count": 25,
   "id": "5c4a7f48",
   "metadata": {},
   "outputs": [
    {
     "data": {
      "text/plain": [
       "A    1.616313\n",
       "B   -0.656195\n",
       "C   -0.567310\n",
       "D   -0.355925\n",
       "Name: 2019-03-01 00:00:00, dtype: float64"
      ]
     },
     "execution_count": 25,
     "metadata": {},
     "output_type": "execute_result"
    }
   ],
   "source": [
    "df.loc['2019-03-01']"
   ]
  },
  {
   "cell_type": "code",
   "execution_count": 27,
   "id": "0e4f161f",
   "metadata": {},
   "outputs": [
    {
     "data": {
      "text/plain": [
       "1.616313125529303"
      ]
     },
     "execution_count": 27,
     "metadata": {},
     "output_type": "execute_result"
    }
   ],
   "source": [
    "df.loc['2019-03-01', 'A'] # 2019-03-01의 A 컬럼"
   ]
  },
  {
   "cell_type": "code",
   "execution_count": 28,
   "id": "24df3b63",
   "metadata": {},
   "outputs": [
    {
     "data": {
      "text/plain": [
       "A    1.616313\n",
       "B   -0.656195\n",
       "Name: 2019-03-01 00:00:00, dtype: float64"
      ]
     },
     "execution_count": 28,
     "metadata": {},
     "output_type": "execute_result"
    }
   ],
   "source": [
    "df.loc['2019-03-01', ['A', 'B']] # 2019-03-01의 A와 B 컬럼"
   ]
  },
  {
   "cell_type": "code",
   "execution_count": 44,
   "id": "5226d763",
   "metadata": {},
   "outputs": [
    {
     "data": {
      "text/html": [
       "<div>\n",
       "<style scoped>\n",
       "    .dataframe tbody tr th:only-of-type {\n",
       "        vertical-align: middle;\n",
       "    }\n",
       "\n",
       "    .dataframe tbody tr th {\n",
       "        vertical-align: top;\n",
       "    }\n",
       "\n",
       "    .dataframe thead th {\n",
       "        text-align: right;\n",
       "    }\n",
       "</style>\n",
       "<table border=\"1\" class=\"dataframe\">\n",
       "  <thead>\n",
       "    <tr style=\"text-align: right;\">\n",
       "      <th></th>\n",
       "      <th>A</th>\n",
       "      <th>B</th>\n",
       "    </tr>\n",
       "  </thead>\n",
       "  <tbody>\n",
       "    <tr>\n",
       "      <th>2019-03-01</th>\n",
       "      <td>1.616313</td>\n",
       "      <td>-0.656195</td>\n",
       "    </tr>\n",
       "    <tr>\n",
       "      <th>2019-03-02</th>\n",
       "      <td>0.763080</td>\n",
       "      <td>0.678132</td>\n",
       "    </tr>\n",
       "    <tr>\n",
       "      <th>2019-03-03</th>\n",
       "      <td>0.128151</td>\n",
       "      <td>-0.563499</td>\n",
       "    </tr>\n",
       "  </tbody>\n",
       "</table>\n",
       "</div>"
      ],
      "text/plain": [
       "                   A         B\n",
       "2019-03-01  1.616313 -0.656195\n",
       "2019-03-02  0.763080  0.678132\n",
       "2019-03-03  0.128151 -0.563499"
      ]
     },
     "execution_count": 44,
     "metadata": {},
     "output_type": "execute_result"
    }
   ],
   "source": [
    "df.loc['2019-03-01':'2019-03-03', ['A', 'B']] # 슬라이싱"
   ]
  },
  {
   "cell_type": "code",
   "execution_count": 45,
   "id": "9f0cc15e",
   "metadata": {},
   "outputs": [
    {
     "data": {
      "text/html": [
       "<div>\n",
       "<style scoped>\n",
       "    .dataframe tbody tr th:only-of-type {\n",
       "        vertical-align: middle;\n",
       "    }\n",
       "\n",
       "    .dataframe tbody tr th {\n",
       "        vertical-align: top;\n",
       "    }\n",
       "\n",
       "    .dataframe thead th {\n",
       "        text-align: right;\n",
       "    }\n",
       "</style>\n",
       "<table border=\"1\" class=\"dataframe\">\n",
       "  <thead>\n",
       "    <tr style=\"text-align: right;\">\n",
       "      <th></th>\n",
       "      <th>A</th>\n",
       "      <th>B</th>\n",
       "    </tr>\n",
       "  </thead>\n",
       "  <tbody>\n",
       "    <tr>\n",
       "      <th>2019-03-01</th>\n",
       "      <td>1.616313</td>\n",
       "      <td>-0.656195</td>\n",
       "    </tr>\n",
       "    <tr>\n",
       "      <th>2019-03-02</th>\n",
       "      <td>0.763080</td>\n",
       "      <td>0.678132</td>\n",
       "    </tr>\n",
       "    <tr>\n",
       "      <th>2019-03-03</th>\n",
       "      <td>0.128151</td>\n",
       "      <td>-0.563499</td>\n",
       "    </tr>\n",
       "  </tbody>\n",
       "</table>\n",
       "</div>"
      ],
      "text/plain": [
       "                   A         B\n",
       "2019-03-01  1.616313 -0.656195\n",
       "2019-03-02  0.763080  0.678132\n",
       "2019-03-03  0.128151 -0.563499"
      ]
     },
     "execution_count": 45,
     "metadata": {},
     "output_type": "execute_result"
    }
   ],
   "source": [
    "df.loc['2019-03-01':'2019-03-03', 'A':'B'] # 컬럼 값도 슬라이싱으로 사용 가능"
   ]
  },
  {
   "cell_type": "code",
   "execution_count": 36,
   "id": "e8112fdb",
   "metadata": {},
   "outputs": [
    {
     "data": {
      "text/html": [
       "<div>\n",
       "<style scoped>\n",
       "    .dataframe tbody tr th:only-of-type {\n",
       "        vertical-align: middle;\n",
       "    }\n",
       "\n",
       "    .dataframe tbody tr th {\n",
       "        vertical-align: top;\n",
       "    }\n",
       "\n",
       "    .dataframe thead th {\n",
       "        text-align: right;\n",
       "    }\n",
       "</style>\n",
       "<table border=\"1\" class=\"dataframe\">\n",
       "  <thead>\n",
       "    <tr style=\"text-align: right;\">\n",
       "      <th></th>\n",
       "      <th>A</th>\n",
       "      <th>B</th>\n",
       "    </tr>\n",
       "  </thead>\n",
       "  <tbody>\n",
       "    <tr>\n",
       "      <th>2019-03-01</th>\n",
       "      <td>1.616313</td>\n",
       "      <td>-0.656195</td>\n",
       "    </tr>\n",
       "    <tr>\n",
       "      <th>2019-03-02</th>\n",
       "      <td>0.763080</td>\n",
       "      <td>0.678132</td>\n",
       "    </tr>\n",
       "    <tr>\n",
       "      <th>2019-03-03</th>\n",
       "      <td>0.128151</td>\n",
       "      <td>-0.563499</td>\n",
       "    </tr>\n",
       "    <tr>\n",
       "      <th>2019-03-04</th>\n",
       "      <td>-1.101764</td>\n",
       "      <td>-0.790643</td>\n",
       "    </tr>\n",
       "    <tr>\n",
       "      <th>2019-03-05</th>\n",
       "      <td>-0.070653</td>\n",
       "      <td>0.363253</td>\n",
       "    </tr>\n",
       "    <tr>\n",
       "      <th>2019-03-06</th>\n",
       "      <td>-2.865717</td>\n",
       "      <td>-0.751398</td>\n",
       "    </tr>\n",
       "    <tr>\n",
       "      <th>2019-03-07</th>\n",
       "      <td>-2.066418</td>\n",
       "      <td>1.042367</td>\n",
       "    </tr>\n",
       "  </tbody>\n",
       "</table>\n",
       "</div>"
      ],
      "text/plain": [
       "                   A         B\n",
       "2019-03-01  1.616313 -0.656195\n",
       "2019-03-02  0.763080  0.678132\n",
       "2019-03-03  0.128151 -0.563499\n",
       "2019-03-04 -1.101764 -0.790643\n",
       "2019-03-05 -0.070653  0.363253\n",
       "2019-03-06 -2.865717 -0.751398\n",
       "2019-03-07 -2.066418  1.042367"
      ]
     },
     "execution_count": 36,
     "metadata": {},
     "output_type": "execute_result"
    }
   ],
   "source": [
    "df.loc[:, ['A', 'B']]"
   ]
  },
  {
   "cell_type": "code",
   "execution_count": 38,
   "id": "5ada6537",
   "metadata": {},
   "outputs": [
    {
     "data": {
      "text/html": [
       "<div>\n",
       "<style scoped>\n",
       "    .dataframe tbody tr th:only-of-type {\n",
       "        vertical-align: middle;\n",
       "    }\n",
       "\n",
       "    .dataframe tbody tr th {\n",
       "        vertical-align: top;\n",
       "    }\n",
       "\n",
       "    .dataframe thead th {\n",
       "        text-align: right;\n",
       "    }\n",
       "</style>\n",
       "<table border=\"1\" class=\"dataframe\">\n",
       "  <thead>\n",
       "    <tr style=\"text-align: right;\">\n",
       "      <th></th>\n",
       "      <th>A</th>\n",
       "      <th>B</th>\n",
       "      <th>C</th>\n",
       "    </tr>\n",
       "  </thead>\n",
       "  <tbody>\n",
       "    <tr>\n",
       "      <th>2019-03-01</th>\n",
       "      <td>1.616313</td>\n",
       "      <td>-0.656195</td>\n",
       "      <td>-0.56731</td>\n",
       "    </tr>\n",
       "    <tr>\n",
       "      <th>2019-03-02</th>\n",
       "      <td>0.763080</td>\n",
       "      <td>0.678132</td>\n",
       "      <td>-0.18480</td>\n",
       "    </tr>\n",
       "  </tbody>\n",
       "</table>\n",
       "</div>"
      ],
      "text/plain": [
       "                   A         B        C\n",
       "2019-03-01  1.616313 -0.656195 -0.56731\n",
       "2019-03-02  0.763080  0.678132 -0.18480"
      ]
     },
     "execution_count": 38,
     "metadata": {},
     "output_type": "execute_result"
    }
   ],
   "source": [
    "df.iloc[0:2, 0:3] # 인덱스 값 기준 슬라이싱"
   ]
  },
  {
   "cell_type": "code",
   "execution_count": 42,
   "id": "92726e7b",
   "metadata": {},
   "outputs": [
    {
     "data": {
      "text/html": [
       "<div>\n",
       "<style scoped>\n",
       "    .dataframe tbody tr th:only-of-type {\n",
       "        vertical-align: middle;\n",
       "    }\n",
       "\n",
       "    .dataframe tbody tr th {\n",
       "        vertical-align: top;\n",
       "    }\n",
       "\n",
       "    .dataframe thead th {\n",
       "        text-align: right;\n",
       "    }\n",
       "</style>\n",
       "<table border=\"1\" class=\"dataframe\">\n",
       "  <thead>\n",
       "    <tr style=\"text-align: right;\">\n",
       "      <th></th>\n",
       "      <th>A</th>\n",
       "      <th>B</th>\n",
       "    </tr>\n",
       "  </thead>\n",
       "  <tbody>\n",
       "    <tr>\n",
       "      <th>2019-03-01</th>\n",
       "      <td>1.616313</td>\n",
       "      <td>-0.656195</td>\n",
       "    </tr>\n",
       "    <tr>\n",
       "      <th>2019-03-02</th>\n",
       "      <td>0.763080</td>\n",
       "      <td>0.678132</td>\n",
       "    </tr>\n",
       "    <tr>\n",
       "      <th>2019-03-06</th>\n",
       "      <td>-2.865717</td>\n",
       "      <td>-0.751398</td>\n",
       "    </tr>\n",
       "  </tbody>\n",
       "</table>\n",
       "</div>"
      ],
      "text/plain": [
       "                   A         B\n",
       "2019-03-01  1.616313 -0.656195\n",
       "2019-03-02  0.763080  0.678132\n",
       "2019-03-06 -2.865717 -0.751398"
      ]
     },
     "execution_count": 42,
     "metadata": {},
     "output_type": "execute_result"
    }
   ],
   "source": [
    "df.iloc[[0, 1, 5], 0:2]"
   ]
  },
  {
   "cell_type": "code",
   "execution_count": 46,
   "id": "4fdb0551",
   "metadata": {},
   "outputs": [
    {
     "data": {
      "text/html": [
       "<div>\n",
       "<style scoped>\n",
       "    .dataframe tbody tr th:only-of-type {\n",
       "        vertical-align: middle;\n",
       "    }\n",
       "\n",
       "    .dataframe tbody tr th {\n",
       "        vertical-align: top;\n",
       "    }\n",
       "\n",
       "    .dataframe thead th {\n",
       "        text-align: right;\n",
       "    }\n",
       "</style>\n",
       "<table border=\"1\" class=\"dataframe\">\n",
       "  <thead>\n",
       "    <tr style=\"text-align: right;\">\n",
       "      <th></th>\n",
       "      <th>A</th>\n",
       "      <th>B</th>\n",
       "      <th>C</th>\n",
       "      <th>D</th>\n",
       "    </tr>\n",
       "  </thead>\n",
       "  <tbody>\n",
       "    <tr>\n",
       "      <th>2019-03-01</th>\n",
       "      <td>True</td>\n",
       "      <td>False</td>\n",
       "      <td>False</td>\n",
       "      <td>False</td>\n",
       "    </tr>\n",
       "    <tr>\n",
       "      <th>2019-03-02</th>\n",
       "      <td>True</td>\n",
       "      <td>True</td>\n",
       "      <td>False</td>\n",
       "      <td>False</td>\n",
       "    </tr>\n",
       "    <tr>\n",
       "      <th>2019-03-03</th>\n",
       "      <td>True</td>\n",
       "      <td>False</td>\n",
       "      <td>True</td>\n",
       "      <td>False</td>\n",
       "    </tr>\n",
       "    <tr>\n",
       "      <th>2019-03-04</th>\n",
       "      <td>False</td>\n",
       "      <td>False</td>\n",
       "      <td>False</td>\n",
       "      <td>False</td>\n",
       "    </tr>\n",
       "    <tr>\n",
       "      <th>2019-03-05</th>\n",
       "      <td>False</td>\n",
       "      <td>True</td>\n",
       "      <td>True</td>\n",
       "      <td>False</td>\n",
       "    </tr>\n",
       "    <tr>\n",
       "      <th>2019-03-06</th>\n",
       "      <td>False</td>\n",
       "      <td>False</td>\n",
       "      <td>False</td>\n",
       "      <td>True</td>\n",
       "    </tr>\n",
       "    <tr>\n",
       "      <th>2019-03-07</th>\n",
       "      <td>False</td>\n",
       "      <td>True</td>\n",
       "      <td>False</td>\n",
       "      <td>True</td>\n",
       "    </tr>\n",
       "  </tbody>\n",
       "</table>\n",
       "</div>"
      ],
      "text/plain": [
       "                A      B      C      D\n",
       "2019-03-01   True  False  False  False\n",
       "2019-03-02   True   True  False  False\n",
       "2019-03-03   True  False   True  False\n",
       "2019-03-04  False  False  False  False\n",
       "2019-03-05  False   True   True  False\n",
       "2019-03-06  False  False  False   True\n",
       "2019-03-07  False   True  False   True"
      ]
     },
     "execution_count": 46,
     "metadata": {},
     "output_type": "execute_result"
    }
   ],
   "source": [
    "df > 0 # 조건 충족하면 True, 아니면 False"
   ]
  },
  {
   "cell_type": "code",
   "execution_count": 47,
   "id": "bc3c32a1",
   "metadata": {},
   "outputs": [
    {
     "data": {
      "text/html": [
       "<div>\n",
       "<style scoped>\n",
       "    .dataframe tbody tr th:only-of-type {\n",
       "        vertical-align: middle;\n",
       "    }\n",
       "\n",
       "    .dataframe tbody tr th {\n",
       "        vertical-align: top;\n",
       "    }\n",
       "\n",
       "    .dataframe thead th {\n",
       "        text-align: right;\n",
       "    }\n",
       "</style>\n",
       "<table border=\"1\" class=\"dataframe\">\n",
       "  <thead>\n",
       "    <tr style=\"text-align: right;\">\n",
       "      <th></th>\n",
       "      <th>A</th>\n",
       "      <th>B</th>\n",
       "      <th>C</th>\n",
       "      <th>D</th>\n",
       "    </tr>\n",
       "  </thead>\n",
       "  <tbody>\n",
       "    <tr>\n",
       "      <th>2019-03-01</th>\n",
       "      <td>1.616313</td>\n",
       "      <td>NaN</td>\n",
       "      <td>NaN</td>\n",
       "      <td>NaN</td>\n",
       "    </tr>\n",
       "    <tr>\n",
       "      <th>2019-03-02</th>\n",
       "      <td>0.763080</td>\n",
       "      <td>0.678132</td>\n",
       "      <td>NaN</td>\n",
       "      <td>NaN</td>\n",
       "    </tr>\n",
       "    <tr>\n",
       "      <th>2019-03-03</th>\n",
       "      <td>0.128151</td>\n",
       "      <td>NaN</td>\n",
       "      <td>0.972631</td>\n",
       "      <td>NaN</td>\n",
       "    </tr>\n",
       "    <tr>\n",
       "      <th>2019-03-04</th>\n",
       "      <td>NaN</td>\n",
       "      <td>NaN</td>\n",
       "      <td>NaN</td>\n",
       "      <td>NaN</td>\n",
       "    </tr>\n",
       "    <tr>\n",
       "      <th>2019-03-05</th>\n",
       "      <td>NaN</td>\n",
       "      <td>0.363253</td>\n",
       "      <td>1.634583</td>\n",
       "      <td>NaN</td>\n",
       "    </tr>\n",
       "    <tr>\n",
       "      <th>2019-03-06</th>\n",
       "      <td>NaN</td>\n",
       "      <td>NaN</td>\n",
       "      <td>NaN</td>\n",
       "      <td>0.239836</td>\n",
       "    </tr>\n",
       "    <tr>\n",
       "      <th>2019-03-07</th>\n",
       "      <td>NaN</td>\n",
       "      <td>1.042367</td>\n",
       "      <td>NaN</td>\n",
       "      <td>0.390121</td>\n",
       "    </tr>\n",
       "  </tbody>\n",
       "</table>\n",
       "</div>"
      ],
      "text/plain": [
       "                   A         B         C         D\n",
       "2019-03-01  1.616313       NaN       NaN       NaN\n",
       "2019-03-02  0.763080  0.678132       NaN       NaN\n",
       "2019-03-03  0.128151       NaN  0.972631       NaN\n",
       "2019-03-04       NaN       NaN       NaN       NaN\n",
       "2019-03-05       NaN  0.363253  1.634583       NaN\n",
       "2019-03-06       NaN       NaN       NaN  0.239836\n",
       "2019-03-07       NaN  1.042367       NaN  0.390121"
      ]
     },
     "execution_count": 47,
     "metadata": {},
     "output_type": "execute_result"
    }
   ],
   "source": [
    "df[df>0] # 0 보다 큰값 출력"
   ]
  },
  {
   "cell_type": "code",
   "execution_count": null,
   "id": "c84f24be",
   "metadata": {},
   "outputs": [],
   "source": []
  }
 ],
 "metadata": {
  "kernelspec": {
   "display_name": "Python 3 (ipykernel)",
   "language": "python",
   "name": "python3"
  },
  "language_info": {
   "codemirror_mode": {
    "name": "ipython",
    "version": 3
   },
   "file_extension": ".py",
   "mimetype": "text/x-python",
   "name": "python",
   "nbconvert_exporter": "python",
   "pygments_lexer": "ipython3",
   "version": "3.9.7"
  }
 },
 "nbformat": 4,
 "nbformat_minor": 5
}
